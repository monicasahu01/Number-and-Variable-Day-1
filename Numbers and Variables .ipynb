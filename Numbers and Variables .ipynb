{
 "cells": [
  {
   "cell_type": "code",
   "execution_count": 1,
   "id": "006ac496-4a14-4e70-8420-4f63c2cb16e9",
   "metadata": {},
   "outputs": [],
   "source": [
    "a = 10"
   ]
  },
  {
   "cell_type": "code",
   "execution_count": 3,
   "id": "499886ec-fe0f-41cb-85f1-1a7140897be0",
   "metadata": {},
   "outputs": [
    {
     "name": "stdout",
     "output_type": "stream",
     "text": [
      "10\n"
     ]
    }
   ],
   "source": [
    "print(a)"
   ]
  },
  {
   "cell_type": "code",
   "execution_count": 6,
   "id": "67ae26e7-412a-4280-9b4f-92ce2395272d",
   "metadata": {},
   "outputs": [
    {
     "data": {
      "text/plain": [
       "'Hello World'"
      ]
     },
     "execution_count": 6,
     "metadata": {},
     "output_type": "execute_result"
    }
   ],
   "source": [
    "'Hello World'"
   ]
  },
  {
   "cell_type": "code",
   "execution_count": 8,
   "id": "2a5da557-8b30-4ce8-8478-81a54326be59",
   "metadata": {},
   "outputs": [
    {
     "name": "stdout",
     "output_type": "stream",
     "text": [
      "Hello World\n"
     ]
    }
   ],
   "source": [
    "print('Hello World')    # Print Command"
   ]
  },
  {
   "cell_type": "markdown",
   "id": "540f30c8-385d-40ca-ab10-f27ff999d542",
   "metadata": {
    "tags": []
   },
   "source": [
    "## Numbers"
   ]
  },
  {
   "cell_type": "code",
   "execution_count": 9,
   "id": "b4639c6d-9a34-42ad-b626-746d246062f9",
   "metadata": {},
   "outputs": [
    {
     "data": {
      "text/plain": [
       "4"
      ]
     },
     "execution_count": 9,
     "metadata": {},
     "output_type": "execute_result"
    }
   ],
   "source": [
    "1+3      # it add nos do not diaplay output console."
   ]
  },
  {
   "cell_type": "code",
   "execution_count": 11,
   "id": "60d4a3f6-18d1-4f1e-9400-8945b3cd4869",
   "metadata": {},
   "outputs": [
    {
     "name": "stdout",
     "output_type": "stream",
     "text": [
      "4\n"
     ]
    }
   ],
   "source": [
    "print(1+3)   # this print command shows output console and display output but the above one do not dispaly its add nos."
   ]
  },
  {
   "cell_type": "code",
   "execution_count": 12,
   "id": "b25d3d3c-cb42-461d-ac1f-a7de3ad654fa",
   "metadata": {},
   "outputs": [
    {
     "name": "stdout",
     "output_type": "stream",
     "text": [
      "4\n"
     ]
    }
   ],
   "source": [
    "a=4 \n",
    "print(a)       # It print output console"
   ]
  },
  {
   "cell_type": "code",
   "execution_count": 15,
   "id": "83a3fbe7-21a8-4c9b-9c04-c828ac4daba1",
   "metadata": {},
   "outputs": [
    {
     "name": "stdout",
     "output_type": "stream",
     "text": [
      "Hello World!, My name is Monika sahu \n",
      "I am a Data Scientist\n"
     ]
    }
   ],
   "source": [
    "print('Hello World!, My name is Monika sahu \\nI am a Data Scientist')   # \\n for the new line "
   ]
  },
  {
   "cell_type": "markdown",
   "id": "04df2dfd-a5bf-4dc8-977d-df99687bd88b",
   "metadata": {},
   "source": [
    "# Variable Assignment"
   ]
  },
  {
   "cell_type": "code",
   "execution_count": 20,
   "id": "c0bb825c-0df1-4325-9e69-e2b2789759a5",
   "metadata": {},
   "outputs": [],
   "source": [
    "name = 'Monika'\n",
    "company = 'KPMG'"
   ]
  },
  {
   "cell_type": "code",
   "execution_count": 23,
   "id": "5afcdbe8-851d-4975-8532-e315da34dd1d",
   "metadata": {},
   "outputs": [
    {
     "data": {
      "text/plain": [
       "'Monika'"
      ]
     },
     "execution_count": 23,
     "metadata": {},
     "output_type": "execute_result"
    }
   ],
   "source": [
    "name"
   ]
  },
  {
   "cell_type": "code",
   "execution_count": 24,
   "id": "1faf53f2-3070-4f9a-90dc-add1163d5793",
   "metadata": {},
   "outputs": [
    {
     "data": {
      "text/plain": [
       "'KPMG'"
      ]
     },
     "execution_count": 24,
     "metadata": {},
     "output_type": "execute_result"
    }
   ],
   "source": [
    "company"
   ]
  },
  {
   "cell_type": "code",
   "execution_count": 25,
   "id": "fea4c638-3363-4f48-ade6-3a0b72407e91",
   "metadata": {},
   "outputs": [
    {
     "data": {
      "text/plain": [
       "10"
      ]
     },
     "execution_count": 25,
     "metadata": {},
     "output_type": "execute_result"
    }
   ],
   "source": [
    "number = 10 \n",
    "number"
   ]
  },
  {
   "cell_type": "code",
   "execution_count": 28,
   "id": "440a144a-9b62-48e5-816a-7b669b7c94a0",
   "metadata": {},
   "outputs": [
    {
     "data": {
      "text/plain": [
       "20"
      ]
     },
     "execution_count": 28,
     "metadata": {},
     "output_type": "execute_result"
    }
   ],
   "source": [
    "number = 20       # now 10 is over written by 20\n",
    "number "
   ]
  },
  {
   "cell_type": "code",
   "execution_count": 30,
   "id": "8089dbeb-0fc0-4f22-ac82-a5a1d83aaaba",
   "metadata": {},
   "outputs": [
    {
     "data": {
      "text/plain": [
       "''"
      ]
     },
     "execution_count": 30,
     "metadata": {},
     "output_type": "execute_result"
    }
   ],
   "source": [
    "\"\"              # double quote will give single quote"
   ]
  },
  {
   "cell_type": "code",
   "execution_count": 31,
   "id": "1ff67f6d-b9f4-4614-b190-2eb30241536f",
   "metadata": {},
   "outputs": [
    {
     "data": {
      "text/plain": [
       "''"
      ]
     },
     "execution_count": 31,
     "metadata": {},
     "output_type": "execute_result"
    }
   ],
   "source": [
    "''              # Single quote will give single quote"
   ]
  },
  {
   "cell_type": "code",
   "execution_count": 33,
   "id": "e7c8b41d-eb29-4dc8-8ead-f1d83d6726a4",
   "metadata": {},
   "outputs": [
    {
     "data": {
      "text/plain": [
       "str"
      ]
     },
     "execution_count": 33,
     "metadata": {},
     "output_type": "execute_result"
    }
   ],
   "source": [
    "type('')    # str as type od data and tupe is and in- built function"
   ]
  },
  {
   "cell_type": "code",
   "execution_count": 36,
   "id": "b15a6865-88ed-4040-aa6b-be4b892cdeec",
   "metadata": {},
   "outputs": [
    {
     "data": {
      "text/plain": [
       "str"
      ]
     },
     "execution_count": 36,
     "metadata": {},
     "output_type": "execute_result"
    }
   ],
   "source": [
    "type(name)  "
   ]
  },
  {
   "cell_type": "code",
   "execution_count": 37,
   "id": "a20e7531-f0fe-4437-bfc7-3b2e06a4b122",
   "metadata": {},
   "outputs": [
    {
     "data": {
      "text/plain": [
       "int"
      ]
     },
     "execution_count": 37,
     "metadata": {},
     "output_type": "execute_result"
    }
   ],
   "source": [
    "type(number)"
   ]
  },
  {
   "cell_type": "code",
   "execution_count": 38,
   "id": "4be55c87-84e2-452b-9e22-2e1ddfb572fb",
   "metadata": {},
   "outputs": [],
   "source": [
    "decimal_num =10.2"
   ]
  },
  {
   "cell_type": "code",
   "execution_count": 39,
   "id": "a2d3ec04-eab6-4246-854b-2f8f9666f178",
   "metadata": {},
   "outputs": [
    {
     "data": {
      "text/plain": [
       "10.2"
      ]
     },
     "execution_count": 39,
     "metadata": {},
     "output_type": "execute_result"
    }
   ],
   "source": [
    "decimal_num"
   ]
  },
  {
   "cell_type": "code",
   "execution_count": 40,
   "id": "8575cb9f-5164-4831-8bc3-d052b5053ae8",
   "metadata": {},
   "outputs": [
    {
     "data": {
      "text/plain": [
       "10.2"
      ]
     },
     "execution_count": 40,
     "metadata": {},
     "output_type": "execute_result"
    }
   ],
   "source": [
    "float(decimal_num)"
   ]
  },
  {
   "cell_type": "code",
   "execution_count": 43,
   "id": "9e358d01-6c5b-4032-8a27-5d28d3ab1cb8",
   "metadata": {},
   "outputs": [
    {
     "data": {
      "text/plain": [
       "complex"
      ]
     },
     "execution_count": 43,
     "metadata": {},
     "output_type": "execute_result"
    }
   ],
   "source": [
    "type(1+2j)"
   ]
  },
  {
   "cell_type": "code",
   "execution_count": 45,
   "id": "520ec813-9108-49a8-87f9-51512ee1193c",
   "metadata": {},
   "outputs": [],
   "source": [
    "number1=23"
   ]
  },
  {
   "cell_type": "code",
   "execution_count": 46,
   "id": "3aeeb62f-ef51-44a9-82ec-5dffeafc3442",
   "metadata": {},
   "outputs": [
    {
     "data": {
      "text/plain": [
       "23"
      ]
     },
     "execution_count": 46,
     "metadata": {},
     "output_type": "execute_result"
    }
   ],
   "source": [
    "number1"
   ]
  }
 ],
 "metadata": {
  "kernelspec": {
   "display_name": "Python 3 (ipykernel)",
   "language": "python",
   "name": "python3"
  },
  "language_info": {
   "codemirror_mode": {
    "name": "ipython",
    "version": 3
   },
   "file_extension": ".py",
   "mimetype": "text/x-python",
   "name": "python",
   "nbconvert_exporter": "python",
   "pygments_lexer": "ipython3",
   "version": "3.10.8"
  }
 },
 "nbformat": 4,
 "nbformat_minor": 5
}
